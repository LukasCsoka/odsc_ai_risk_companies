{
  "cells":[
    {
      "cell_type":"markdown",
      "source":[
        "#  Adversarial Attack on MNIST Using JAX\n",
        "\n",
        "The code that I’m providing has been built upon the following sources:\n",
        "\n",
        "- https:\/\/towardsdatascience.com\/creating-adversarial-examples-with-jax-from-the-scratch-bf267757f672\n",
        "- https:\/\/github.com\/cleverhans-lab\/cleverhans\n",
        "- https:\/\/www.tensorflow.org\/tutorials\/generative\/adversarial_fgsm\n",
        "\n",
        "CleverHans is a Python library to benchmark machine learning systems' vulnerability to adversarial examples. I highly recommend checking this library. You can learn more about such vulnerabilities on the accompanying blog.\n",
        "\n",
        "- Adversarial examples: http:\/\/karpathy.github.io\/2015\/03\/30\/breaking-convnets\/\n",
        "- Adversarial blog: http:\/\/www.cleverhans.io\/"
      ],
      "attachments":{
        
      },
      "metadata":{
        
      }
    },
    {
      "cell_type":"markdown",
      "source":[
        "## This section contains imports and definitions of parameters."
      ],
      "attachments":{
        
      },
      "metadata":{
        
      }
    },
    {
      "cell_type":"code",
      "source":[
        "# basic imports\n",
        "import array\n",
        "import itertools\n",
        "import numpy\n",
        "import numpy.random as npr\n",
        "import os\n",
        "import struct\n",
        "\n",
        "# to download MNIST, unzip and load into memory\n",
        "import gzip\n",
        "from os import path\n",
        "import urllib.request\n",
        "\n",
        "# JAX is NumPy on the CPU, GPU, and TPU, with great automatic differentiation for high-performance machine learning research.\n",
        "# Excellent blog to learn more about JAX: https:\/\/colinraffel.com\/blog\/you-don-t-know-jax.html\n",
        "import jax.numpy as np\n",
        "from jax.api import grad\n",
        "from jax.scipy.special import logsumexp\n",
        "from jax import random\n",
        "from jax.experimental import optimizers\n",
        "from jax.experimental import stax\n",
        "\n",
        "# to visualize results \n",
        "import matplotlib.pyplot as plt\n",
        "\n",
        "# parameters definition\n",
        "DATA_FOLDER = \"\/tmp\/\"\n",
        "BASE_URL = \"https:\/\/storage.googleapis.com\/cvdf-datasets\/mnist\/\""
      ],
      "attachments":{
        
      },
      "execution_count":1,
      "outputs":[
        
      ],
      "metadata":{
        
      }
    },
    {
      "cell_type":"markdown",
      "source":[
        "## This section downloads, unzips and lods MNIST data.\n",
        "If you do not know MNIST, check this source: https:\/\/en.wikipedia.org\/wiki\/MNIST_database"
      ],
      "attachments":{
        
      },
      "metadata":{
        
      }
    },
    {
      "cell_type":"code",
      "source":[
        "def _download_url(url, filename):\n",
        "  \"\"\"Download a url to a file in the temp directory.\"\"\"\n",
        "  if not path.exists(DATA_FOLDER):\n",
        "    os.makedirs(DATA_FOLDER)\n",
        "  out_file = path.join(DATA_FOLDER, filename)\n",
        "  if not path.isfile(out_file):\n",
        "    urllib.request.urlretrieve(url, out_file)\n",
        "    print(\"downloaded {} to {}\".format(url, DATA_FOLDER))\n",
        "\n",
        "\n",
        "def _partial_flatten(x):\n",
        "  \"\"\"Flatten all but the first dimension of an ndarray.\"\"\"\n",
        "  return numpy.reshape(x, (x.shape[0], -1))\n",
        "\n",
        "\n",
        "def _one_hot(x, k, dtype=numpy.float32):\n",
        "  \"\"\"Create a one-hot encoding of x of size k.\"\"\"\n",
        "  return numpy.array(x[:, None] == numpy.arange(k), dtype)\n",
        "\n",
        "\n",
        "def mnist_raw():\n",
        "  \"\"\"Download and parse the MNIST dataset.\"\"\"\n",
        "  \n",
        "  def parse_labels(filename):\n",
        "    with gzip.open(filename, \"rb\") as fh:\n",
        "      _ = struct.unpack(\">II\", fh.read(8))\n",
        "      return numpy.array(array.array(\"B\", fh.read()), dtype=numpy.uint8)\n",
        "\n",
        "  def parse_images(filename):\n",
        "    with gzip.open(filename, \"rb\") as fh:\n",
        "      _, num_data, rows, cols = struct.unpack(\">IIII\", fh.read(16))\n",
        "      return numpy.array(array.array(\"B\", fh.read()),\n",
        "                      dtype=numpy.uint8).reshape(num_data, rows, cols)\n",
        "\n",
        "  for filename in [\"train-images-idx3-ubyte.gz\", \"train-labels-idx1-ubyte.gz\",\n",
        "                   \"t10k-images-idx3-ubyte.gz\", \"t10k-labels-idx1-ubyte.gz\"]:\n",
        "    _download_url(BASE_URL + filename, filename)\n",
        "\n",
        "  train_images = parse_images(path.join(DATA_FOLDER, \"train-images-idx3-ubyte.gz\"))\n",
        "  train_labels = parse_labels(path.join(DATA_FOLDER, \"train-labels-idx1-ubyte.gz\"))\n",
        "\n",
        "  return train_images, train_labels#, test_images, test_labels\n",
        "\n",
        "\n",
        "def mnist():\n",
        "  \"\"\"Download, parse and process MNIST data to unit scale and one-hot labels.\"\"\"\n",
        "  train_images, train_labels = mnist_raw()\n",
        "\n",
        "  train_images = _partial_flatten(train_images) \/ numpy.float32(255.)\n",
        "  train_labels = _one_hot(train_labels, 10)\n",
        "\n",
        "  return train_images, train_labels\n",
        "\n",
        "\n",
        "def shape_as_image(images, labels, dummy_dim=False):\n",
        "  target_shape = (-1, 1, 28, 28, 1) if dummy_dim else (-1, 28, 28, 1)\n",
        "  return np.reshape(images, target_shape), labels\n",
        "\n",
        "\n",
        "train_images, train_labels = mnist()  # here starts the execution\n",
        "num_train = train_images.shape[0]"
      ],
      "attachments":{
        
      },
      "execution_count":2,
      "outputs":[
        {
          "name":"stdout",
          "text":[
            "downloaded https:\/\/storage.googleapis.com\/cvdf-datasets\/mnist\/train-images-idx3-ubyte.gz to \/tmp\/\n",
            "downloaded https:\/\/storage.googleapis.com\/cvdf-datasets\/mnist\/train-labels-idx1-ubyte.gz to \/tmp\/\n",
            "downloaded https:\/\/storage.googleapis.com\/cvdf-datasets\/mnist\/t10k-images-idx3-ubyte.gz to \/tmp\/\n",
            "downloaded https:\/\/storage.googleapis.com\/cvdf-datasets\/mnist\/t10k-labels-idx1-ubyte.gz to \/tmp\/\n"
          ],
          "output_type":"stream"
        }
      ],
      "metadata":{
        
      }
    },
    {
      "cell_type":"markdown",
      "source":[
        "## We will create a simple convolutional neural network for predicting classes of handwritten digits. We will adversarially attack this neural network by using fast gradient sign method (FGSM).\n",
        "\n",
        "Very good blog about this method is available here: https:\/\/towardsdatascience.com\/perhaps-the-simplest-introduction-of-adversarial-examples-ever-c0839a759b8d\n",
        "\n",
        "FGSM adds noise (not random noise) whose direction is the same as the gradient of the cost function with respect to the data. The noise is scaled epsilon, which is usually constrained to be a small number via max norm. The magnitude of gradient does not matter in this formula, but the direction (+\/-) matters.\n",
        "\n",
        "$adv\\_x = x + \\epsilon*\\text{sign}(\\nabla_xJ(\\theta, x, y))$\n",
        "\n",
        "where\n",
        "\n",
        "- adv_x : Adversarial image.\n",
        "- x : Original input image.\n",
        "- y : Original input label.\n",
        "- $\\epsilon$ : Multiplier to ensure the perturbations are small.\n",
        "- $\\theta$ : Model parameters.\n",
        "- $J$ : Loss.\n",
        "\n",
        "The gradients are taken with respect to the input image. This is done because the objective is to create an image that maximises the loss. A method to accomplish this is to find how much each pixel in the image contributes to the loss value. After that, we will add a perturbation accordingly. \n",
        "\n",
        "This is fast because it is easy to find how each input pixel contributes to the loss by using the chain rule and finding the required gradients. Hence, the gradients are taken with respect to the image. In addition, since the model is no longer being trained (thus the gradient is not taken with respect to the trainable variables, i.e., the model parameters), and so the model parameters remain constant. The only goal is to fool an already trained model.\n",
        "\n",
        "The explanation above was taken from here: https:\/\/www.tensorflow.org\/tutorials\/generative\/adversarial_fgsm This page also contains an excelent tutorial. The model is MobileNetV2 model, pretrained on ImageNet. "
      ],
      "attachments":{
        
      },
      "metadata":{
        
      }
    },
    {
      "cell_type":"code",
      "source":[
        "def predict(params, inputs):\n",
        "  \"\"\"We define the function which will compute the output of a fully-connected neural\n",
        "  network by iterating over all of its layers, taking the activations of the input\/previous layer\n",
        "  and applying the tanh activation.\"\"\"\n",
        "  \n",
        "  activations = inputs\n",
        "  for w, b in params[:-1]:\n",
        "    outputs = np.dot(activations, w) + b \n",
        "    activations = np.tanh(outputs)\n",
        "\n",
        "  final_w, final_b = params[-1]\n",
        "  logits = np.dot(activations, final_w) + final_b\n",
        "  return logits - logsumexp(logits, axis=1, keepdims=True)"
      ],
      "attachments":{
        
      },
      "execution_count":3,
      "outputs":[
        
      ],
      "metadata":{
        
      }
    },
    {
      "cell_type":"markdown",
      "source":[
        "## A fully-connected neural network architecture using ‘stax’ is defined. Stax is experimental sub-library of Jax. Stax is a neural net specification library. "
      ],
      "attachments":{
        
      },
      "metadata":{
        
      }
    },
    {
      "cell_type":"code",
      "source":[
        "init_random_params, predict = stax.serial(\n",
        "    stax.Conv(64, (7,7), padding='SAME'),\n",
        "    stax.Relu,\n",
        "    stax.Conv(32, (4, 4), padding='SAME'),\n",
        "    stax.Relu,\n",
        "    stax.MaxPool((3, 3)),\n",
        "    stax.Flatten,\n",
        "    stax.Dense(128),\n",
        "    stax.Relu,\n",
        "    stax.Dense(10),\n",
        ")"
      ],
      "attachments":{
        
      },
      "execution_count":4,
      "outputs":[
        
      ],
      "metadata":{
        
      }
    },
    {
      "cell_type":"markdown",
      "source":[
        "Cross-entropy is a measure of the difference between two probability distributions for a given random variable or set of events. A gentle introduction to cross-entropy are here:\n",
        "\n",
        "- https:\/\/machinelearningmastery.com\/cross-entropy-for-machine-learning\/\n",
        "- https:\/\/medium.com\/data-science-bootcamp\/understand-cross-entropy-loss-in-minutes-9fb263caee9a"
      ],
      "attachments":{
        
      },
      "metadata":{
        
      }
    },
    {
      "cell_type":"code",
      "source":[
        "# loss function for calculating predictions and accuracy before pertubation\n",
        "def loss(params, batch, test=0):\n",
        "  inputs, targets = batch\n",
        "  logits = predict(params, inputs)\n",
        "  preds  = stax.logsoftmax(logits)\n",
        "\n",
        "  if test == 1:  # only if we are testing\n",
        "    print('Prediction vector before softmax')\n",
        "    print(logits)\n",
        "    print(\"____________________________________________________________________________________\")\n",
        "    print('Prediction vector after softmax')\n",
        "    print(preds)\n",
        "    print(\"____________________________________________________________________________________\")\n",
        "  return -(1\/(preds.shape[0]))*np.sum(targets*preds)\n",
        "\n",
        "# loss function for calculating gradients of loss w.r.t. input image\n",
        "def lo(batch,params):\n",
        "  inputs, targets = batch\n",
        "  logits = predict(params, inputs)\n",
        "  preds  = stax.logsoftmax(logits)\n",
        "  return -(1\/(preds.shape[0]))*np.sum(targets*preds)"
      ],
      "attachments":{
        
      },
      "execution_count":11,
      "outputs":[
        
      ],
      "metadata":{
        
      }
    },
    {
      "cell_type":"code",
      "source":[
        "# The following function defines the accuracy of our model.\n",
        "def accuracy(params, batch):\n",
        "  inputs, targets = batch\n",
        "  target_class = np.argmax(targets, axis=1)\n",
        "  predicted_class = np.argmax(predict(params, inputs), axis=1)\n",
        "  return np.mean(predicted_class == target_class), target_class, predicted_class"
      ],
      "attachments":{
        
      },
      "execution_count":10,
      "outputs":[
        
      ],
      "metadata":{
        
      }
    },
    {
      "cell_type":"markdown",
      "source":[
        "# We define a Python generator for our dataset. It outputs one batch of n training examples at a time."
      ],
      "attachments":{
        
      },
      "metadata":{
        
      }
    },
    {
      "cell_type":"code",
      "source":[
        "batch_size = 128\n",
        "num_complete_batches, leftover = divmod(num_train, batch_size)\n",
        "num_batches = num_complete_batches + bool(leftover)\n",
        "\n",
        "def data_stream():\n",
        "  rng = npr.RandomState(0)\n",
        "  while True:\n",
        "    perm = rng.permutation(num_train)\n",
        "    for i in range(num_batches):\n",
        "      batch_idx = perm[i * batch_size:(i + 1) * batch_size]\n",
        "      yield train_images[batch_idx], train_labels[batch_idx]\n",
        "\n",
        "batches = data_stream()"
      ],
      "attachments":{
        
      },
      "execution_count":12,
      "outputs":[
        
      ],
      "metadata":{
        
      }
    },
    {
      "cell_type":"markdown",
      "source":[
        "## Here we construct optimizer Mini-batch gradient descent optimizer.\n",
        "\n",
        "Mini-batch gradient descent finally takes the best from Batch gradient descent and Stochastic gradient descent. Recommended blog about these methods is here: https:\/\/ruder.io\/optimizing-gradient-descent\/\n",
        "\n",
        "opt_init is a pytree representing the initial optimizer state, which includes the initial parameters and may also include auxiliary values like initial momentum.\n",
        "\n",
        "opt_update is a pytree with the same structure as the `opt_state` argument representing the updated optimizer state.\n",
        "\n",
        "get_params is as well a pytree representing the parameters extracted from `opt_state`, such that the invariant `params == get_params(init_fun(params))` holds true.\n",
        "\n",
        "Basically, a method opt_init that takes in a set of initial parameter values returned by init_fun and returns the initial optimizer state opt_state. Method opt_update takes in gradients and parameters and updates the optimizer states by applying one step of optimization, and a method get_params than takes in an optimizer state and return current parameter values."
      ],
      "attachments":{
        
      },
      "metadata":{
        
      }
    },
    {
      "cell_type":"code",
      "source":[
        "learning_rate = 0.14\n",
        "opt_init, opt_update, get_params = optimizers.sgd(learning_rate)\n",
        "\n",
        "def update(_, i, opt_state, batch):\n",
        "  params = get_params(opt_state)\n",
        "  return opt_update(i, grad(loss)(params, batch), opt_state)"
      ],
      "attachments":{
        
      },
      "execution_count":13,
      "outputs":[
        
      ],
      "metadata":{
        
      }
    },
    {
      "cell_type":"markdown",
      "source":[
        "## Next, we will train our model on the training examples. At the end of the training, we will obtain the ‘params’ which we are going to use to calculate the gradient of our loss function w.r.t. the test image."
      ],
      "attachments":{
        
      },
      "metadata":{
        
      }
    },
    {
      "cell_type":"code",
      "source":[
        "# definitions\n",
        "num_epochs = 1\n",
        "key = random.PRNGKey(123)\n",
        "_, init_params = init_random_params(key, (-1, 28, 28, 1))"
      ],
      "attachments":{
        
      },
      "execution_count":14,
      "outputs":[
        
      ],
      "metadata":{
        
      }
    },
    {
      "cell_type":"code",
      "source":[
        "# training part\n",
        "opt_state = opt_init(init_params)\n",
        "itercount = itertools.count()\n",
        "\n",
        "for i in range(num_batches):\n",
        "  if i % 25 == 0: print('Computing batch {:}\/{:}'.format(i, num_batches))\n",
        "  opt_state= update(key, next(itercount), opt_state, shape_as_image(*next(batches)))\n",
        "\n",
        "params = get_params(opt_state)\n",
        "print(\"Finished\")"
      ],
      "attachments":{
        
      },
      "execution_count":15,
      "outputs":[
        {
          "name":"stdout",
          "text":[
            "Computing batch 0\/469\n",
            "Computing batch 25\/469\n",
            "Computing batch 50\/469\n",
            "Computing batch 75\/469\n",
            "Computing batch 100\/469\n",
            "Computing batch 125\/469\n",
            "Computing batch 150\/469\n",
            "Computing batch 175\/469\n",
            "Computing batch 200\/469\n",
            "Computing batch 225\/469\n",
            "Computing batch 250\/469\n",
            "Computing batch 275\/469\n",
            "Computing batch 300\/469\n",
            "Computing batch 325\/469\n",
            "Computing batch 350\/469\n",
            "Computing batch 375\/469\n",
            "Computing batch 400\/469\n",
            "Computing batch 425\/469\n",
            "Computing batch 450\/469\n",
            "Finished\n"
          ],
          "output_type":"stream"
        }
      ],
      "metadata":{
        
      }
    },
    {
      "cell_type":"markdown",
      "source":[
        "We define the function which will return us the gradient of the loss function w.r.t the test input. This function will calculate test loss as well as predict the class of our target variable. \n",
        "\n",
        "This is pretty straightforward. First line calculates test accuracy. Second line calculates test loss. Third lines calculates the gradients, which are also returned."
      ],
      "attachments":{
        
      },
      "metadata":{
        
      }
    },
    {
      "cell_type":"code",
      "source":[
        "def covnet(user_run, params):\n",
        "  # user_run: this function was executed by user and it will print additional information.\n",
        "  test_acc,target_class, predicted_class = accuracy(params, shape_as_image(test_images, test_labels))\n",
        "  test_loss = loss(params, shape_as_image(test_images, test_labels), test=user_run)\n",
        "  grads = grad(lo)(shape_as_image(test_images, test_labels), params)\n",
        "\n",
        "  if user_run == 1:\n",
        "      print('Test accuracy (%): {:.2f}'.format(100 * test_acc))\n",
        "      print('Test loss (%): {:.2f}'.format(test_loss))\n",
        "      print('Predicted class: ', predicted_class)\n",
        "      print('Target class:', target_class)\n",
        "  return grads, test_acc"
      ],
      "attachments":{
        
      },
      "execution_count":16,
      "outputs":[
        
      ],
      "metadata":{
        
      }
    },
    {
      "cell_type":"markdown",
      "source":[
        "# We are near the end. We choose an image which belongs to the class ‘8’ and display it."
      ],
      "attachments":{
        
      },
      "metadata":{
        
      }
    },
    {
      "cell_type":"code",
      "source":[
        "selected_image = 333\n",
        "\n",
        "# Function to display image\n",
        "def display(image):\n",
        "  img = image.reshape((28,28))\n",
        "  plt.imshow(img, cmap=\"Greys\")\n",
        "  plt.show()\n",
        "  return\n",
        "\n",
        "display(train_images[selected_image])"
      ],
      "attachments":{
        
      },
      "execution_count":17,
      "outputs":[
        {
          "data":{
            "image\/png":"[encoded data removed]"
          },
          "metadata":{
            "image\/png":{
              "width":0,
              "height":0
            }
          },
          "output_type":"display_data"
        }
      ],
      "metadata":{
        
      }
    },
    {
      "cell_type":"markdown",
      "source":[
        "In next cell, we load the image and test, what are model predicts. If we did everything right, predicted class should be '8'. Bear in mind, that we are testing an image, which the model was trained on, but for our purpose, it does not matter."
      ],
      "attachments":{
        
      },
      "metadata":{
        
      }
    },
    {
      "cell_type":"code",
      "source":[
        "def load_img(image,img_label):\n",
        "  img = np.array(image)\n",
        "  img = img.reshape(1,784)\n",
        "  label = np.array(img_label)\n",
        "  label = label.reshape(1,10)\n",
        "  return img, label\n",
        "\n",
        "img, label = load_img(train_images[selected_image],train_labels[selected_image])  \n",
        "test_images = img\n",
        "test_labels = label\n",
        "\n",
        "# predictions before pertubation \n",
        "grads, acc = covnet(1, params)"
      ],
      "attachments":{
        
      },
      "execution_count":18,
      "outputs":[
        {
          "name":"stdout",
          "text":[
            "Prediction vector before softmax\n",
            "[[ 3.387504   -4.2424345   5.5979037  -0.44558826 -4.4707594   2.9573107\n",
            "   3.8999696  -4.927149   18.507484    0.27495083]]\n",
            "____________________________________________________________________________________\n",
            "Prediction vector after softmax\n",
            "[[-1.5119983e+01 -2.2749924e+01 -1.2909583e+01 -1.8953077e+01\n",
            "  -2.2978249e+01 -1.5550177e+01 -1.4607518e+01 -2.3434637e+01\n",
            "  -3.3378547e-06 -1.8232538e+01]]\n",
            "____________________________________________________________________________________\n",
            "Test accuracy (%): 100.00\n",
            "Test loss (%): 0.00\n",
            "Predicted class:  [8]\n",
            "Target class: [8]\n"
          ],
          "output_type":"stream"
        }
      ],
      "metadata":{
        
      }
    },
    {
      "cell_type":"markdown",
      "source":[
        "Let’s perturb the same image with fast gradient sign method. For this purpose, we have defined the function bellow. Here we are using 0.3 as the value of epsilon. Additionaly, lets display the image."
      ],
      "attachments":{
        
      },
      "metadata":{
        
      }
    },
    {
      "cell_type":"code",
      "source":[
        "epsilon = 0.3\n",
        "\n",
        "def perturb(grad, img, epsilon):\n",
        "  grads = grad[0]\n",
        "  a = numpy.reshape(grads, (1, 784))\n",
        "  s = np.sign(a)\n",
        "  perturbed_image = img + np.dot(epsilon,s)\n",
        "  return perturbed_image\n",
        "\n",
        "adversarial_img = perturb(grads, train_images[selected_image], epsilon)\n",
        "display(adversarial_img)"
      ],
      "attachments":{
        
      },
      "execution_count":19,
      "outputs":[
        {
          "data":{
            "image\/png":"[encoded data removed]"
          },
          "metadata":{
            "image\/png":{
              "width":0,
              "height":0
            }
          },
          "output_type":"display_data"
        }
      ],
      "metadata":{
        
      }
    },
    {
      "cell_type":"markdown",
      "source":[
        "And the last step, show that are perturbed \/ adversarial image is clearly of class '8', but our neural network is showing class '2'. \n",
        "\n",
        "This approach is applicable also to a more complex datasets than MNIST."
      ],
      "attachments":{
        
      },
      "metadata":{
        
      }
    },
    {
      "cell_type":"code",
      "source":[
        "img, label = load_img(adversarial_img, train_labels[selected_image])  \n",
        "test_images = img\n",
        "test_labels = label\n",
        "\n",
        "grads, acc = covnet(1,params)"
      ],
      "attachments":{
        
      },
      "execution_count":20,
      "outputs":[
        {
          "name":"stdout",
          "text":[
            "Prediction vector before softmax\n",
            "[[ 1.3961667 -1.5118341 10.725666  -1.465681  -1.659752  -3.4278665\n",
            "   2.1676345  3.5835493  4.9841194 -0.6741743]]\n",
            "____________________________________________________________________________________\n",
            "Prediction vector after softmax\n",
            "[[-9.3337975e+00 -1.2241798e+01 -4.2984951e-03 -1.2195645e+01\n",
            "  -1.2389716e+01 -1.4157830e+01 -8.5623293e+00 -7.1464152e+00\n",
            "  -5.7458453e+00 -1.1404139e+01]]\n",
            "____________________________________________________________________________________\n",
            "Test accuracy (%): 0.00\n",
            "Test loss (%): 5.75\n",
            "Predicted class:  [2]\n",
            "Target class: [8]\n"
          ],
          "output_type":"stream"
        }
      ],
      "metadata":{
        
      }
    }
  ],
  "metadata":{
    
  },
  "nbformat":4,
  "nbformat_minor":0
}