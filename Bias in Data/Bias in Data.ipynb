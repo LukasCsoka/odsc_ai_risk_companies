{
  "cells":[
    {
      "cell_type":"markdown",
      "source":[
        "#  Bias in Data\n",
        "\n",
        "The code that I’m providing has been built mainly upon the following sources:\n",
        " \n",
        "- https:\/\/fairmlbook.org\/\n",
        "- https:\/\/dalex.drwhy.ai\/python-dalex-fairness.html\n",
        "- https:\/\/dalex.drwhy.ai\/python\/\n",
        "- https:\/\/www.kdnuggets.com\/2020\/12\/machine-learning-model-fair.html\n",
        " \n",
        "Unverified black box model is the path to the failure. Opaqueness leads to distrust. Distrust leads to ignoration. Ignoration leads to rejection.\n",
        "\n",
        "The dalex package xrays any model and helps to explore and explain its behaviour, helps to understand how complex models are working. The main [Explainer](https:\/\/dalex.drwhy.ai\/python\/api\/#dalex.Explainer) object creates a wrapper around a predictive model. Wrapped models may then be explored and compared with a collection of model-level and predict-level explanations. Moreover, there are fairness methods and interactive exploration dashboards available to the user.\n",
        "\n",
        "The philosophy behind dalex explanations is described in the [Explanatory Model Analysis e-book](https:\/\/ema.drwhy.ai\/)."
      ],
      "metadata":{
        
      }
    },
    {
      "cell_type":"code",
      "source":[
        "# basic imports\n",
        "import dalex as dx\n",
        "import numpy as np\n",
        "\n",
        "# import scikit-learn\n",
        "from sklearn.compose import ColumnTransformer\n",
        "from sklearn.pipeline import Pipeline\n",
        "from sklearn.preprocessing import OneHotEncoder\n",
        "from sklearn.tree import DecisionTreeClassifier\n",
        "from sklearn.ensemble import RandomForestClassifier\n",
        "from sklearn.linear_model import LogisticRegression\n",
        "from sklearn.preprocessing import StandardScaler\n",
        "from sklearn.metrics import plot_confusion_matrix"
      ],
      "execution_count":1,
      "outputs":[
        
      ],
      "metadata":{
        
      }
    },
    {
      "cell_type":"markdown",
      "source":[
        "To showcase the problem of fairness in AI, we will be using the German Credit Data dataset to assign risk for each credit-seeker.\n",
        "Information about this dataset can be found here: https:\/\/archive.ics.uci.edu\/ml\/datasets\/statlog+(german+credit+data)\n",
        "\n",
        "We will at first create a very simple ML model (decision tree) for the data. Additionally, we will use create random forest and logistic regression, but thes two models will be used later.\n",
        "\n",
        "It is very important to avoid any bias, when a person applies for loan in bank, as nobody would want to be negatively affected, as well if the bank does not have reliable model, the bank can lose part of business or provide loans to people, that would not receive loans by unbiased models. \n",
        "\n",
        "The data we use for modeling is in the major part a reflection of the world it derives from. And as the world can be biased, so data and therefore model will likely reflect that. "
      ],
      "metadata":{
        
      }
    },
    {
      "cell_type":"code",
      "source":[
        "# load credit data\n",
        "data = dx.datasets.load_german()\n",
        "\n",
        "# risk is the target variable\n",
        "features = data.drop(columns='risk')\n",
        "labels = data.risk\n",
        "\n",
        "# select few categorical and numerical features\n",
        "categorical_features = ['sex', 'job', 'housing', 'saving_accounts', \"checking_account\", 'purpose']\n",
        "numeric_features = ['credit_amount', 'age']\n",
        "\n",
        "# create one hot encoder for categorical variables as transformer\n",
        "categorical_transformer = Pipeline(steps=[\n",
        "    ('onehot', OneHotEncoder(handle_unknown='ignore'))\n",
        "])\n",
        "\n",
        "# scale numerical features as transformer\n",
        "numeric_transformer = Pipeline(steps=[\n",
        "    ('scaler', StandardScaler())])\n",
        "\n",
        "preprocessor = ColumnTransformer(\n",
        "    transformers=[\n",
        "        ('cat', categorical_transformer, categorical_features),\n",
        "        ('num', numeric_transformer, numeric_features)])\n",
        "\n",
        "\n",
        "# create a pipeline, containing the above transformer and decision tree\n",
        "clf = Pipeline(steps=[\n",
        "    ('preprocessor', preprocessor),\n",
        "    ('classifier', DecisionTreeClassifier(max_depth=7, random_state=42))\n",
        "])\n",
        "\n",
        "# train decision tree on this data\n",
        "clf.fit(features, labels)\n",
        "\n",
        "# train also random forest - it will be used later\n",
        "clf_forest = Pipeline(steps=[('preprocessor', preprocessor),\n",
        "                      ('classifier', RandomForestClassifier(random_state=42, max_depth=5))]).fit(features,labels)\n",
        "\n",
        "# trian also logistic regression - it will be used later\n",
        "clf_logreg = Pipeline(steps=[('preprocessor', preprocessor),\n",
        "                      ('classifier', LogisticRegression(random_state=42))]).fit(features,labels)\n",
        "\n",
        "# plot confusion matrix of decision tree\n",
        "plot_confusion_matrix(clf, features, labels)"
      ],
      "execution_count":29,
      "outputs":[
        {
          "data":{
            "text\/plain":[
              "<sklearn.metrics._plot.confusion_matrix.ConfusionMatrixDisplay at 0x7efd71f93c40>"
            ],
            "image\/png":"[encoded data removed]"
          },
          "metadata":{
            "image\/png":{
              "width":0,
              "height":0
            }
          },
          "output_type":"display_data"
        }
      ],
      "metadata":{
        
      }
    },
    {
      "cell_type":"markdown",
      "source":[
        "We create an Explainer object to showcase dalex functionalities. Then we look at the overal performance of our model. Even through its simple, it is not bad. At first, we will use only decision tree."
      ],
      "metadata":{
        
      }
    },
    {
      "cell_type":"code",
      "source":[
        "exp = dx.Explainer(clf, features, labels)\n",
        "exp.model_performance().result"
      ],
      "execution_count":32,
      "outputs":[
        {
          "name":"stdout",
          "text":[
            "Preparation of a new explainer is initiated\n",
            "\n",
            "  -> data              : 1000 rows 9 cols\n",
            "  -> target variable   : Parameter 'y' was a pandas.Series. Converted to a numpy.ndarray.\n",
            "  -> target variable   : 1000 values\n",
            "  -> model_class       : sklearn.tree._classes.DecisionTreeClassifier (default)\n",
            "  -> label             : Not specified, model's class short name will be used. (default)\n",
            "  -> predict function  : <function yhat_proba_default at 0x7efd931253a0> will be used (default)\n",
            "  -> predict function  : Accepts only pandas.DataFrame, numpy.ndarray causes problems.\n",
            "  -> predicted values  : min = 0.0, mean = 0.7, max = 1.0\n",
            "  -> model type        : classification will be used (default)\n",
            "  -> residual function : difference between y and yhat (default)\n",
            "  -> residuals         : min = -0.944, mean = 8.88e-19, max = 0.923\n",
            "  -> model_info        : package sklearn\n",
            "\n",
            "A new explainer has been created!\n"
          ],
          "output_type":"stream"
        },
        {
          "data":{
            "text\/html":[
              "<div>\n",
              "<style scoped>\n",
              "    .dataframe tbody tr th:only-of-type {\n",
              "        vertical-align: middle;\n",
              "    }\n",
              "\n",
              "    .dataframe tbody tr th {\n",
              "        vertical-align: top;\n",
              "    }\n",
              "\n",
              "    .dataframe thead th {\n",
              "        text-align: right;\n",
              "    }\n",
              "<\/style>\n",
              "<table border=\"1\" class=\"dataframe\">\n",
              "  <thead>\n",
              "    <tr style=\"text-align: right;\">\n",
              "      <th><\/th>\n",
              "      <th>recall<\/th>\n",
              "      <th>precision<\/th>\n",
              "      <th>f1<\/th>\n",
              "      <th>accuracy<\/th>\n",
              "      <th>auc<\/th>\n",
              "    <\/tr>\n",
              "  <\/thead>\n",
              "  <tbody>\n",
              "    <tr>\n",
              "      <th>DecisionTreeClassifier<\/th>\n",
              "      <td>0.941429<\/td>\n",
              "      <td>0.829975<\/td>\n",
              "      <td>0.882195<\/td>\n",
              "      <td>0.824<\/td>\n",
              "      <td>0.883371<\/td>\n",
              "    <\/tr>\n",
              "  <\/tbody>\n",
              "<\/table>\n",
              "<\/div>"
            ]
          },
          "metadata":{
            
          },
          "output_type":"display_data"
        }
      ],
      "metadata":{
        
      }
    },
    {
      "cell_type":"markdown",
      "source":[
        "To check if the model is biased, we will use the fairness module from dalex. Checking if the model is fair should be straightforward. Apart from the dx.Explainer, we will need 2 parameters:\n",
        "\n",
        "- protected - array-like of subgroups values that denote a sensitive attribute (protected variable) like sex, nationality etc. The fairness metrics will be calculated for each of those subgroups and compared.\n",
        "- privileged - a string representing one of the subgroups. It should be the one suspected of the most privilege.\n",
        "\n",
        "The idea here is that ratios between scores of privileged and unprivileged metrics should be close to 1. The closer the more fair the model is. But to relax this criterion a little bit, it can be written more thoughtfully:\n",
        "\n",
        "$\\forall_{i \\varepsilon \\{a,b,...,z\\}}  \\epsilon  \\frac{metrix_i}{metric_{privileged}} < \\frac{1}{\\epsilon}$\n",
        "\n",
        "where the epsilon is a value between 0 and 1. It should be a minimum acceptable ratio. On default, it is 0.8, which adheres to [four-fifths rule (80% rule)](https:\/\/www.hirevue.com\/blog\/hiring\/what-is-adverse-impact-and-why-measuring-it-matters) commonly used. Of course, a user may change this value to their needs."
      ],
      "metadata":{
        
      }
    },
    {
      "cell_type":"code",
      "source":[
        "# array with values like male_old, female_young, etc.\n",
        "protected = data.sex + '_' + np.where(data.age < 25, 'young', 'old')\n",
        "\n",
        "privileged = 'male_old'  # we assume, that older males are prviliged compared to young females, lets thest this hypothesis\n",
        "\n",
        "fobject = exp.model_fairness(protected = protected, privileged = privileged)\n",
        "fobject.fairness_check(epsilon = 0.8)"
      ],
      "execution_count":36,
      "outputs":[
        {
          "name":"stdout",
          "text":[
            "Bias detected in 3 metrics: TPR, FPR, STP\n",
            "\n",
            "Conclusion: your model is not fair because 2 or more criteria exceeded acceptable limits set by epsilon.\n",
            "\n",
            "Ratios of metrics, based on 'male_old'. Parameter 'epsilon' was set to 0.8 and therefore metrics should be within (0.8, 1.25)\n",
            "                   TPR       ACC       PPV       FPR       STP\n",
            "female_old    1.019771  0.981020  0.952719  1.022822  0.986811\n",
            "female_young  0.736733  0.832740  0.893617  0.634855  0.642686\n",
            "male_young    0.884495  0.931198  0.957447  0.663900  0.774580\n"
          ],
          "output_type":"stream"
        }
      ],
      "metadata":{
        
      }
    },
    {
      "cell_type":"markdown",
      "source":[
        "This model should not be called fair. Generally, each metric should be between (epsilon, 1\/epsilon). Metrics are calculated for each subgroup, and then their scores are divided by the score of the privileged subgroup. That is why we omit male_old in this method. When at least 2 metrics have scores ratio outside of the epsilon range, dalex declared this model unfair. In our case it cannot be decided automatically but the bias is visible and FPR (False Positive Rate) is especially important in case of risk assigning, so let's call our model unfair.\n",
        "\n",
        "The bias was spotted in metric FPR, which is the False Positive Rate. The output above suggests that the model cannot be automatically approved (like said in the output above). So it is up to the user to decide. In my opinion, it is not a fair model. Lower FPR means that the privileged subgroup is getting False Positives more frequently than the unprivileged."
      ],
      "metadata":{
        
      }
    },
    {
      "cell_type":"markdown",
      "source":[
        "## Let's check more metrics\n",
        "\n",
        "We get the information about bias, the conclusion, and metrics ratio raw DataFrame. There are metrics TPR (True Positive Rate), ACC (Accuracy), PPV (Positive Predictive Value), FPR (False Positive Rate), STP(Statistical parity). The metrics are derived from a confusion matrix for each unprivileged subgroup and then divided by metric values based on the privileged subgroup. \n",
        "\n",
        "The result attribute is metric_scores where each row is divided by row indexed with privileged (in this case male_old)."
      ],
      "metadata":{
        
      }
    },
    {
      "cell_type":"code",
      "source":[
        "fobject.result # to see all scaled metric values"
      ],
      "execution_count":37,
      "outputs":[
        {
          "data":{
            "text\/html":[
              "<div>\n",
              "<style scoped>\n",
              "    .dataframe tbody tr th:only-of-type {\n",
              "        vertical-align: middle;\n",
              "    }\n",
              "\n",
              "    .dataframe tbody tr th {\n",
              "        vertical-align: top;\n",
              "    }\n",
              "\n",
              "    .dataframe thead th {\n",
              "        text-align: right;\n",
              "    }\n",
              "<\/style>\n",
              "<table border=\"1\" class=\"dataframe\">\n",
              "  <thead>\n",
              "    <tr style=\"text-align: right;\">\n",
              "      <th><\/th>\n",
              "      <th>TPR<\/th>\n",
              "      <th>TNR<\/th>\n",
              "      <th>PPV<\/th>\n",
              "      <th>NPV<\/th>\n",
              "      <th>FNR<\/th>\n",
              "      <th>FPR<\/th>\n",
              "      <th>FDR<\/th>\n",
              "      <th>FOR<\/th>\n",
              "      <th>ACC<\/th>\n",
              "      <th>STP<\/th>\n",
              "    <\/tr>\n",
              "  <\/thead>\n",
              "  <tbody>\n",
              "    <tr>\n",
              "      <th>female_old<\/th>\n",
              "      <td>1.019771<\/td>\n",
              "      <td>0.978764<\/td>\n",
              "      <td>0.952719<\/td>\n",
              "      <td>1.118501<\/td>\n",
              "      <td>0.512821<\/td>\n",
              "      <td>1.022822<\/td>\n",
              "      <td>1.259740<\/td>\n",
              "      <td>0.433526<\/td>\n",
              "      <td>0.981020<\/td>\n",
              "      <td>0.986811<\/td>\n",
              "    <\/tr>\n",
              "    <tr>\n",
              "      <th>female_young<\/th>\n",
              "      <td>0.736733<\/td>\n",
              "      <td>1.339768<\/td>\n",
              "      <td>0.893617<\/td>\n",
              "      <td>0.775091<\/td>\n",
              "      <td>7.487179<\/td>\n",
              "      <td>0.634855<\/td>\n",
              "      <td>1.584416<\/td>\n",
              "      <td>2.075145<\/td>\n",
              "      <td>0.832740<\/td>\n",
              "      <td>0.642686<\/td>\n",
              "    <\/tr>\n",
              "    <tr>\n",
              "      <th>male_old<\/th>\n",
              "      <td>1.000000<\/td>\n",
              "      <td>1.000000<\/td>\n",
              "      <td>1.000000<\/td>\n",
              "      <td>1.000000<\/td>\n",
              "      <td>1.000000<\/td>\n",
              "      <td>1.000000<\/td>\n",
              "      <td>1.000000<\/td>\n",
              "      <td>1.000000<\/td>\n",
              "      <td>1.000000<\/td>\n",
              "      <td>1.000000<\/td>\n",
              "    <\/tr>\n",
              "    <tr>\n",
              "      <th>male_young<\/th>\n",
              "      <td>0.884495<\/td>\n",
              "      <td>1.312741<\/td>\n",
              "      <td>0.957447<\/td>\n",
              "      <td>0.893591<\/td>\n",
              "      <td>3.846154<\/td>\n",
              "      <td>0.663900<\/td>\n",
              "      <td>1.233766<\/td>\n",
              "      <td>1.508671<\/td>\n",
              "      <td>0.931198<\/td>\n",
              "      <td>0.774580<\/td>\n",
              "    <\/tr>\n",
              "  <\/tbody>\n",
              "<\/table>\n",
              "<\/div>"
            ]
          },
          "metadata":{
            
          },
          "output_type":"display_data"
        }
      ],
      "metadata":{
        
      }
    },
    {
      "cell_type":"code",
      "source":[
        "fobject.metric_scores # or unscaled ones"
      ],
      "execution_count":38,
      "outputs":[
        {
          "data":{
            "text\/html":[
              "<div>\n",
              "<style scoped>\n",
              "    .dataframe tbody tr th:only-of-type {\n",
              "        vertical-align: middle;\n",
              "    }\n",
              "\n",
              "    .dataframe tbody tr th {\n",
              "        vertical-align: top;\n",
              "    }\n",
              "\n",
              "    .dataframe thead th {\n",
              "        text-align: right;\n",
              "    }\n",
              "<\/style>\n",
              "<table border=\"1\" class=\"dataframe\">\n",
              "  <thead>\n",
              "    <tr style=\"text-align: right;\">\n",
              "      <th><\/th>\n",
              "      <th>TPR<\/th>\n",
              "      <th>TNR<\/th>\n",
              "      <th>PPV<\/th>\n",
              "      <th>NPV<\/th>\n",
              "      <th>FNR<\/th>\n",
              "      <th>FPR<\/th>\n",
              "      <th>FDR<\/th>\n",
              "      <th>FOR<\/th>\n",
              "      <th>ACC<\/th>\n",
              "      <th>STP<\/th>\n",
              "    <\/tr>\n",
              "  <\/thead>\n",
              "  <tbody>\n",
              "    <tr>\n",
              "      <th>female_old<\/th>\n",
              "      <td>0.980<\/td>\n",
              "      <td>0.507<\/td>\n",
              "      <td>0.806<\/td>\n",
              "      <td>0.925<\/td>\n",
              "      <td>0.020<\/td>\n",
              "      <td>0.493<\/td>\n",
              "      <td>0.194<\/td>\n",
              "      <td>0.075<\/td>\n",
              "      <td>0.827<\/td>\n",
              "      <td>0.823<\/td>\n",
              "    <\/tr>\n",
              "    <tr>\n",
              "      <th>female_young<\/th>\n",
              "      <td>0.708<\/td>\n",
              "      <td>0.694<\/td>\n",
              "      <td>0.756<\/td>\n",
              "      <td>0.641<\/td>\n",
              "      <td>0.292<\/td>\n",
              "      <td>0.306<\/td>\n",
              "      <td>0.244<\/td>\n",
              "      <td>0.359<\/td>\n",
              "      <td>0.702<\/td>\n",
              "      <td>0.536<\/td>\n",
              "    <\/tr>\n",
              "    <tr>\n",
              "      <th>male_old<\/th>\n",
              "      <td>0.961<\/td>\n",
              "      <td>0.518<\/td>\n",
              "      <td>0.846<\/td>\n",
              "      <td>0.827<\/td>\n",
              "      <td>0.039<\/td>\n",
              "      <td>0.482<\/td>\n",
              "      <td>0.154<\/td>\n",
              "      <td>0.173<\/td>\n",
              "      <td>0.843<\/td>\n",
              "      <td>0.834<\/td>\n",
              "    <\/tr>\n",
              "    <tr>\n",
              "      <th>male_young<\/th>\n",
              "      <td>0.850<\/td>\n",
              "      <td>0.680<\/td>\n",
              "      <td>0.810<\/td>\n",
              "      <td>0.739<\/td>\n",
              "      <td>0.150<\/td>\n",
              "      <td>0.320<\/td>\n",
              "      <td>0.190<\/td>\n",
              "      <td>0.261<\/td>\n",
              "      <td>0.785<\/td>\n",
              "      <td>0.646<\/td>\n",
              "    <\/tr>\n",
              "  <\/tbody>\n",
              "<\/table>\n",
              "<\/div>"
            ]
          },
          "metadata":{
            
          },
          "output_type":"display_data"
        }
      ],
      "metadata":{
        
      }
    },
    {
      "cell_type":"markdown",
      "source":[
        "## Let's look at some plot (dalex uses plotly)\n",
        "\n",
        "There are two bias detection plots available (however, there are more ways to visualize bias in the package)\n",
        "\n",
        "- fairness_check— visualization of fairness_check() method\n",
        "- metric_scores— visualization of metric_scores attribute which is raw scores of metrics.\n",
        "\n",
        "For fairness_check, if a bar reaches the red field, it means that for this metric model is exceeding the (epsilon, 1\/epsilon) range. In this case the DecisionTreeClassifier has one NaN. In this case appropriate message is given (it can be disabled with verbose=False).\n",
        "\n",
        "For metric_scores, vertical lines showcase the score of the privileged subgroup. Points closer to the line indicate less bias in the model."
      ],
      "metadata":{
        
      }
    },
    {
      "cell_type":"code",
      "source":[
        "fobject.plot()"
      ],
      "execution_count":39,
      "outputs":[
        {
          "data":{
            "text\/plain":[
              "Unsupported"
            ]
          },
          "metadata":{
            
          },
          "output_type":"display_data"
        }
      ],
      "metadata":{
        
      }
    },
    {
      "cell_type":"code",
      "source":[
        "fobject.plot(type = 'metric_scores')"
      ],
      "execution_count":40,
      "outputs":[
        {
          "data":{
            "text\/plain":[
              "Unsupported"
            ]
          },
          "metadata":{
            
          },
          "output_type":"display_data"
        }
      ],
      "metadata":{
        
      }
    },
    {
      "cell_type":"markdown",
      "source":[
        "## Multiple models\n",
        "\n",
        "Let's now use also random forest and logistic regression results."
      ],
      "metadata":{
        
      }
    },
    {
      "cell_type":"code",
      "source":[
        "# create Explainer objects \n",
        "exp_forest  = dx.Explainer(clf_forest, features, labels, verbose = False)\n",
        "exp_logreg  = dx.Explainer(clf_logreg, features, labels, verbose = False)\n",
        "\n",
        "# create fairness explanations\n",
        "fobject_forest = exp_forest.model_fairness(protected, privileged)\n",
        "fobject_logreg = exp_logreg.model_fairness(protected, privileged)\n",
        "\n",
        "# fairness check\n",
        "fobject_forest.fairness_check(epsilon = 0.8)\n",
        "fobject_logreg.fairness_check(epsilon = 0.8)"
      ],
      "execution_count":42,
      "outputs":[
        {
          "name":"stdout",
          "text":[
            "Bias detected in 2 metrics: FPR, STP\n",
            "\n",
            "Conclusion: your model is not fair because 2 or more criteria exceeded acceptable limits set by epsilon.\n",
            "\n",
            "Ratios of metrics, based on 'male_old'. Parameter 'epsilon' was set to 0.8 and therefore metrics should be within (0.8, 1.25)\n",
            "                   TPR       ACC       PPV       FPR       STP\n",
            "female_old    0.990900  0.974684  0.962963  0.884058  0.949353\n",
            "female_young  0.884732  0.903797  0.893997  0.658762  0.769397\n",
            "male_young    0.985844  0.915190  0.888889  0.895916  0.928879\n",
            "Bias detected in 3 metrics: TPR, FPR, STP\n",
            "\n",
            "Conclusion: your model is not fair because 2 or more criteria exceeded acceptable limits set by epsilon.\n",
            "\n",
            "Ratios of metrics, based on 'male_old'. Parameter 'epsilon' was set to 0.8 and therefore metrics should be within (0.8, 1.25)\n",
            "                   TPR       ACC       PPV       FPR       STP\n",
            "female_old    0.917109  0.944954  0.971831  0.788752  0.870056\n",
            "female_young  0.774708  0.889908  0.914213  0.533608  0.658757\n",
            "male_young    0.929862  0.887287  0.878361  0.877915  0.887006\n"
          ],
          "output_type":"stream"
        }
      ],
      "metadata":{
        
      }
    },
    {
      "cell_type":"code",
      "source":[
        "fobject.plot(objects=[fobject_forest, fobject_logreg])"
      ],
      "execution_count":43,
      "outputs":[
        {
          "data":{
            "text\/plain":[
              "Unsupported"
            ]
          },
          "metadata":{
            
          },
          "output_type":"display_data"
        }
      ],
      "metadata":{
        
      }
    },
    {
      "cell_type":"code",
      "source":[
        "fobject.plot(objects=[fobject_forest, fobject_logreg], type = \"radar\")"
      ],
      "execution_count":44,
      "outputs":[
        {
          "data":{
            "text\/plain":[
              "Unsupported"
            ]
          },
          "metadata":{
            
          },
          "output_type":"display_data"
        }
      ],
      "metadata":{
        
      }
    },
    {
      "cell_type":"markdown",
      "source":[
        "## Metrics"
      ],
      "metadata":{
        
      }
    },
    {
      "cell_type":"markdown",
      "source":[
        "\n",
        "| Metric | Formula | Full name | fairness names while checking among subgroups |\n",
        "| ----------- | ----------- | ----------- | ----------- |\n",
        "| TPR | $\\frac{TP}{TP+FN}$ | true positive rate | equal opportunity |\n",
        "| TNR | $\\frac{TN}{TP+FP}$ | true negative rate |  |\n",
        "| PPV | $\\frac{TP}{TP+FP}$ | positive predictive value |  |\n",
        "| NPV | $\\frac{TN}{TN+FN}$ | negative predictive value |  |\n",
        "| FNR | $\\frac{FP}{FN+TP}$ | false negative rate\t |  |\n",
        "| FPR | $\\frac{FN}{FP+TN}$ | false positive rate\t | predictive equality |\n",
        "| FDR | $\\frac{FP}{FP+TP}$ | false discovery rate |  |\n",
        "| FOR | $\\frac{FN}{FN+TN}$ | false ommision rate |  |\n",
        "| TS |  $\\frac{TP}{TP+FN+FP}$ | threat score |  |\n",
        "| STP | $\\frac{TP+FP}{TP+FN+FP+TN}$ | statistical parity | statistical parity |\n",
        "| ACC | $\\frac{TP+TN}{TP+FN+FP+TN}$ | accuracy | overall accuracy equality |\n",
        "| F1 | $2\\cdot \\frac{PPV*TPR}{PPV-TPR}$ | f1 score |  |"
      ],
      "metadata":{
        
      }
    }
  ],
  "metadata":{
    
  },
  "nbformat":4,
  "nbformat_minor":0
}